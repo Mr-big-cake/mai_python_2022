{
  "nbformat": 4,
  "nbformat_minor": 0,
  "metadata": {
    "colab": {
      "provenance": [],
      "collapsed_sections": []
    },
    "kernelspec": {
      "name": "python3",
      "display_name": "Python 3"
    },
    "language_info": {
      "name": "python"
    }
  },
  "cells": [
    {
      "cell_type": "code",
      "source": [
        "drone_list = [\"DJI Mavic 2 Pro\", \"DJI Mavic 2 Zoom\", \"DJI Mavic 2 Enterprise Advanced\", \"AUTEL Evo II Pro\", \"DJI Mini 2\", \"Autel Evo Nano\", \"Autel Evo Lite Plus\", \"Parrot Anafi\", \"Dji Inspire 2\", \"DJI Mavic 3\", \"DJI Mavic Air2s\", \"Ryze Tello\", \"Eachine Trashcan\"]\n",
        "\n",
        "drone_weight_list = [903, 900, 920, 980, 249, 249, 600, 540, 1500, 1000, 570, 130, 110]\n",
        "\n",
        "#в drone по очереди попадает каждый дрон из списка drone_list\n",
        "for drone in drone_list:\n",
        "\tprint(drone)\n",
        "\n",
        "#TODO1\n",
        "#выведите все дроны производителя, название которого введет пользователь через input, и подсчитайте их количество. \n",
        "#учтите, что:\n",
        "#1) DJI и Dji - это один и тот же производитель! такие случаи тоже должны обрабатываться\n",
        "#2) при выводе исправьте название производителя, если допущена ошибка. правильный вариант названия: DJI, Autel\n",
        "\n",
        "#TODO2\n",
        "#подсчитайте количество моделей дронов каждого производителя из списка drone_list. производители: DJI, Autel, Parrot, Ryze, Eachine\n",
        "\n",
        "#TODO3\n",
        "#выведите все дроны из списка, которые нужно регистрировать (масса больше 150 г), и подсчитайте их количество. \n",
        "#сделайте то же самое для всех дронов, которые не нужно регистрировать\n",
        "#для этого вам нужно параллельно обрабатывать два списка: drone_list и drone_weight_list:\n",
        "#как работает zip, мы разберем на лекции про списки. пока что просто пользуйтесь\n",
        "for drone, weight in zip(drone_list,  drone_weight_list):\n",
        "\tprint(drone, weight)\n",
        "\n",
        "#TODO4\n",
        "#для каждого дрона из списка выведите, нудно ли согласовывать полет при следующих условиях:\n",
        "#высота 100 м, полет над населенным пунктом, вне закрытых зон, в прямой видимости\n",
        "#помните, что для дронов тяжелее 150 г согласовывать полет над населенным пунктом - обязательно!\n",
        "\n",
        "#TODO5*\n",
        "#модифицируйте решение задания TODO1:\n",
        "#теперь для введенного пользователем производителя вы должны вывести строку, содержащую перечисление моделей и БЕЗ названия производителя.\n",
        "#например, пользователь ввел \"Autel\". ваша программа должна вывести вот такой результат: \"Evo II Pro, Evo Nano, Evo Lite Plus\". для этого вам понадобится несколько функций работы со строками. решить эту задачу можно несколькими разными способами\n",
        "#производители те же: DJI, Autel, Parrot, Ryze, Eachine\n"
      ],
      "metadata": {
        "id": "TB__iH_vuX1M"
      },
      "execution_count": null,
      "outputs": []
    },
    {
      "cell_type": "code",
      "source": [
        "drone_list = [\"DJI Mavic 2 Pro\", \"DJI Mavic 2 Zoom\", \"DJI Mavic 2 Enterprise Advanced\",\\\n",
        "              \"AUTEL Evo II Pro\", \"DJI Mini 2\", \"Autel Evo Nano\", \"Autel Evo Lite Plus\",\\\n",
        "              \"Parrot Anafi\", \"Dji Inspire 2\", \"DJI Mavic 3\", \"DJI Mavic Air2s\", \"Ryze Tello\", \"Eachine Trashcan\"]\n",
        "\n",
        "drone_weight_list = [903, 900, 920, 980, 249, 249, 600, 540, 1500, 1000, 570, 130, 110]\n",
        "\n",
        "#в drone по очереди попадает каждый дрон из списка drone_list\n",
        "for drone in drone_list:\n",
        "\tprint(drone)"
      ],
      "metadata": {
        "colab": {
          "base_uri": "https://localhost:8080/"
        },
        "id": "gebbxxB5ups-",
        "outputId": "d032105e-30ec-4763-c42f-49205bb92f00"
      },
      "execution_count": 2,
      "outputs": [
        {
          "output_type": "stream",
          "name": "stdout",
          "text": [
            "DJI Mavic 2 Pro\n",
            "DJI Mavic 2 Zoom\n",
            "DJI Mavic 2 Enterprise Advanced\n",
            "AUTEL Evo II Pro\n",
            "DJI Mini 2\n",
            "Autel Evo Nano\n",
            "Autel Evo Lite Plus\n",
            "Parrot Anafi\n",
            "Dji Inspire 2\n",
            "DJI Mavic 3\n",
            "DJI Mavic Air2s\n",
            "Ryze Tello\n",
            "Eachine Trashcan\n"
          ]
        }
      ]
    },
    {
      "cell_type": "markdown",
      "source": [
        "#TODO1\n",
        "Выведите все дроны производителя, название которого введет пользователь через input, и подсчитайте их количество.  \n",
        "учтите, что:  \n",
        "1) DJI и Dji - это один и тот же производитель! такие случаи тоже должны обрабатываться  \n",
        "2) при выводе исправьте название производителя, если допущена ошибка. правильный вариант названия: DJI, Autel  "
      ],
      "metadata": {
        "id": "n1yV_KmTu0Us"
      }
    },
    {
      "cell_type": "code",
      "source": [
        "input_name = input().split()[0].lower()\n",
        "for drone in drone_list:\n",
        "  tmp_word = drone.split()\n",
        "  tmp_name = drone.split()[0].lower()\n",
        "  if(tmp_name == input_name):\n",
        "    if(tmp_name == 'dji'):\n",
        "      tmp_word[0] = tmp_word[0].upper()\n",
        "      print(\" \".join(tmp_word))\n",
        "    else:\n",
        "      tmp_word = map(lambda x: x.capitalize(), tmp_word)\n",
        "      print(\" \".join(tmp_word))"
      ],
      "metadata": {
        "colab": {
          "base_uri": "https://localhost:8080/"
        },
        "id": "Jx9Zp0NOu6gv",
        "outputId": "2de199b4-5ec5-43b8-a0e6-60a1d164ab70"
      },
      "execution_count": null,
      "outputs": [
        {
          "output_type": "stream",
          "name": "stdout",
          "text": [
            "Autel\n",
            "Autel Evo Ii Pro\n",
            "Autel Evo Nano\n",
            "Autel Evo Lite Plus\n"
          ]
        }
      ]
    },
    {
      "cell_type": "markdown",
      "source": [
        "\n",
        "#TODO2\n",
        "Подсчитайте количество моделей дронов каждого производителя из списка drone_list. производители: DJI, Autel, Parrot, Ryze, Eachine\n"
      ],
      "metadata": {
        "id": "JPeXsDWaLGG0"
      }
    },
    {
      "cell_type": "code",
      "source": [
        "names = list(set(map(lambda x: x.split()[0].lower() , drone_list)))\n",
        "true_names = list(map(lambda x: x.capitalize() if x.lower() != 'dji' else x.upper() , names))\n",
        "names_dictionary = dict.fromkeys(true_names, 0)\n",
        "\n",
        "for drone in drone_list:\n",
        "  tmp_name = drone.split()[0].lower()\n",
        "  names_dictionary[tmp_name.capitalize() if tmp_name.lower() != 'dji' else tmp_name.upper()] += 1\n",
        "names_dictionary"
      ],
      "metadata": {
        "colab": {
          "base_uri": "https://localhost:8080/"
        },
        "id": "sqTDRNZ8K1Xd",
        "outputId": "9e2ac676-28b6-46ac-e3e7-a41eedbccde4"
      },
      "execution_count": null,
      "outputs": [
        {
          "output_type": "execute_result",
          "data": {
            "text/plain": [
              "{'Ryze': 1, 'Eachine': 1, 'DJI': 7, 'Autel': 3, 'Parrot': 1}"
            ]
          },
          "metadata": {},
          "execution_count": 33
        }
      ]
    },
    {
      "cell_type": "markdown",
      "source": [
        "#TODO3\n",
        "Выведите все дроны из списка, которые нужно регистрировать (масса больше 150 г), и подсчитайте их количество.   \n",
        "Сделайте то же самое для всех дронов, которые не нужно регистрировать для этого вам нужно параллельно обрабатывать два списка: drone_list и drone_weight_list:  \n",
        "Как работает zip, мы разберем на лекции про списки. пока что просто пользуйтесь\n",
        "for drone, weight in zip(drone_list,  drone_weight_list): print(drone, weight)"
      ],
      "metadata": {
        "id": "QsoZFpd3RGJ9"
      }
    },
    {
      "cell_type": "code",
      "source": [
        "countLimit = 0\n",
        "for drone, weight in zip(drone_list, drone_weight_list): \n",
        "  if (weight > 150):\n",
        "    print(drone, weight)\n",
        "    countLimit += 1\n",
        "print (\"Кол-во > 150 : \", countLimit, '\\n')\n",
        "\n",
        "countAnLimit = 0\n",
        "for drone, weight in zip(drone_list, drone_weight_list): \n",
        "  if (weight <= 150):\n",
        "    print(drone, weight)\n",
        "    countAnLimit += 1\n",
        "print (\"Кол-во <= 150 : \", countAnLimit)"
      ],
      "metadata": {
        "colab": {
          "base_uri": "https://localhost:8080/"
        },
        "id": "Berf03XZRFvv",
        "outputId": "93c48a8f-0224-4447-d803-82397fa015d2"
      },
      "execution_count": null,
      "outputs": [
        {
          "output_type": "stream",
          "name": "stdout",
          "text": [
            "DJI Mavic 2 Pro 903\n",
            "DJI Mavic 2 Zoom 900\n",
            "DJI Mavic 2 Enterprise Advanced 920\n",
            "AUTEL Evo II Pro 980\n",
            "DJI Mini 2 249\n",
            "Autel Evo Nano 249\n",
            "Autel Evo Lite Plus 600\n",
            "Parrot Anafi 540\n",
            "Dji Inspire 2 1500\n",
            "DJI Mavic 3 1000\n",
            "DJI Mavic Air2s 570\n",
            "Кол-во > 150 :  11 \n",
            "\n",
            "Ryze Tello 130\n",
            "Eachine Trashcan 110\n",
            "Кол-во <= 150 :  2\n"
          ]
        }
      ]
    },
    {
      "cell_type": "markdown",
      "source": [
        "#TODO4\n",
        "Для каждого дрона из списка выведите, нудно ли согласовывать полет при следующих условиях:  \n",
        "* Высота 100 м, полет над населенным пунктом, вне закрытых зон, в прямой видимости\n",
        "* Помните, что для дронов тяжелее 150 г согласовывать полет над населенным пунктом - обязательно!"
      ],
      "metadata": {
        "id": "1KLFoTUgVW4f"
      }
    },
    {
      "cell_type": "code",
      "source": [
        "drone_height_list = [11, 22, 33, 44, 55, 66, 77, 88, 99, 111, 222, 222, 222]\n",
        "drone_loc_list = [True, True, True, True, False, False, False, False, False, True, False, False, True]\n",
        "\n",
        "for drone, weight, height, loc in zip(drone_list, drone_weight_list, drone_height_list, drone_loc_list): \n",
        "  if (weight > 150 or height > 100 or loc == True):\n",
        "    print(\"Требуется согласование для :\", drone)\n",
        "  else:\n",
        "    print(\"Не требуется согласование для :\", drone)\n"
      ],
      "metadata": {
        "colab": {
          "base_uri": "https://localhost:8080/"
        },
        "id": "WOjIITVvVkTg",
        "outputId": "5d30006a-844a-4c85-a06b-5332116c874d"
      },
      "execution_count": 3,
      "outputs": [
        {
          "output_type": "stream",
          "name": "stdout",
          "text": [
            "Требуется согласование для : DJI Mavic 2 Pro\n",
            "Требуется согласование для : DJI Mavic 2 Zoom\n",
            "Требуется согласование для : DJI Mavic 2 Enterprise Advanced\n",
            "Требуется согласование для : AUTEL Evo II Pro\n",
            "Требуется согласование для : DJI Mini 2\n",
            "Требуется согласование для : Autel Evo Nano\n",
            "Требуется согласование для : Autel Evo Lite Plus\n",
            "Требуется согласование для : Parrot Anafi\n",
            "Требуется согласование для : Dji Inspire 2\n",
            "Требуется согласование для : DJI Mavic 3\n",
            "Требуется согласование для : DJI Mavic Air2s\n",
            "Требуется согласование для : Ryze Tello\n",
            "Требуется согласование для : Eachine Trashcan\n"
          ]
        }
      ]
    },
    {
      "cell_type": "markdown",
      "source": [
        "#TODO5*\n",
        "Модифицируйте решение задания TODO1:  \n",
        "Теперь для введенного пользователем производителя вы должны вывести строку содержащую перечисление моделей и БЕЗ названия производителя.  \n",
        "Например, пользователь ввел \"Autel\". ваша программа должна вывести вот такой результат: \"Evo II Pro, Evo Nano, Evo Lite Plus\". для этого вам понадобится несколько функций работы со строками. решить эту задачу можно несколькими разными способами\n",
        "Производители те же: DJI, Autel, Parrot, Ryze, Eachine\n"
      ],
      "metadata": {
        "id": "4tHJ8o4faG2E"
      }
    },
    {
      "cell_type": "code",
      "source": [
        "input_name = input().split()[0].lower()\n",
        "for drone in drone_list:\n",
        "  tmp_word = drone.split()\n",
        "  tmp_name = drone.split()[0].lower()\n",
        "  if(tmp_name == input_name):\n",
        "    if(tmp_name == 'dji'):\n",
        "      tmp_word[0] = ''\n",
        "      print(\" \".join(tmp_word))\n",
        "    else:\n",
        "      tmp_word =  list(map(lambda x: x.capitalize(), tmp_word))\n",
        "      tmp_word[0] = ''\n",
        "      print(\" \".join(tmp_word))"
      ],
      "metadata": {
        "colab": {
          "base_uri": "https://localhost:8080/"
        },
        "id": "ONEplmUual6C",
        "outputId": "c297ad13-5752-494f-cf6e-2fe54232dba9"
      },
      "execution_count": null,
      "outputs": [
        {
          "output_type": "stream",
          "name": "stdout",
          "text": [
            "Autel\n",
            " Evo Ii Pro\n",
            " Evo Nano\n",
            " Evo Lite Plus\n"
          ]
        }
      ]
    }
  ]
}